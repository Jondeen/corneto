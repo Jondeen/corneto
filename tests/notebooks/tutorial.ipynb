{
 "cells": [
  {
   "cell_type": "code",
   "execution_count": 1,
   "id": "3469db80",
   "metadata": {},
   "outputs": [
    {
     "data": {
      "text/plain": [
       "'0.9.1-alpha.0'"
      ]
     },
     "execution_count": 1,
     "metadata": {},
     "output_type": "execute_result"
    }
   ],
   "source": [
    "%matplotlib inline\n",
    "import matplotlib.pyplot as plt\n",
    "import numpy as np\n",
    "import pandas as pd\n",
    "from matplotlib.patches import ArrowStyle\n",
    "from pathlib import Path\n",
    "\n",
    "\n",
    "import corneto as cnt\n",
    "from corneto.backend import PicosBackend\n",
    "cnt.__version__ # cnt.info() -> print backends, available solvers w/versions"
   ]
  },
  {
   "cell_type": "code",
   "execution_count": 2,
   "id": "9bdbc55a",
   "metadata": {},
   "outputs": [
    {
     "name": "stdout",
     "output_type": "stream",
     "text": [
      "Default solver is gurobi (using CVXPY Backend)\n"
     ]
    }
   ],
   "source": [
    "print(f\"Default solver is {cnt.DEFAULT_SOLVER} (using {str(cnt.DEFAULT_BACKEND)})\")"
   ]
  },
  {
   "cell_type": "code",
   "execution_count": 4,
   "id": "24afe006",
   "metadata": {},
   "outputs": [
    {
     "data": {
      "text/plain": [
       "'1.3.0'"
      ]
     },
     "execution_count": 4,
     "metadata": {},
     "output_type": "execute_result"
    }
   ],
   "source": [
    "cnt.DEFAULT_BACKEND.version()"
   ]
  },
  {
   "cell_type": "markdown",
   "id": "080b5db9",
   "metadata": {},
   "source": [
    "## Basic data manipulation"
   ]
  },
  {
   "cell_type": "code",
   "execution_count": null,
   "id": "f586c6a3",
   "metadata": {},
   "outputs": [],
   "source": [
    "rn = cnt.import_sif('../../tests/sif/PKN-LiverDREAM.sif')\n",
    "rn.plot(figsize=(10, 16));"
   ]
  },
  {
   "cell_type": "code",
   "execution_count": null,
   "id": "91cc21cc",
   "metadata": {},
   "outputs": [],
   "source": [
    "n0 = rn.select(['akt'])\n",
    "n0.add_reaction('r1', {'akt': -1, 'puk': 1}, value=-1, inplace=False).plot();"
   ]
  },
  {
   "cell_type": "code",
   "execution_count": null,
   "id": "0dcd2208",
   "metadata": {},
   "outputs": [],
   "source": [
    "rn.prune(['tgfa', 'igf1'], ['hsp27']).plot(figsize=(10, 16));"
   ]
  },
  {
   "cell_type": "code",
   "execution_count": null,
   "id": "13d1a01e",
   "metadata": {},
   "outputs": [],
   "source": [
    "# Create a biochemical network from a dataframe\n",
    "df_toy = pd.DataFrame({'source':      ['A', 'B', 'B', 'C', 'B', 'D'], \n",
    "                       'interaction': [ 1,   1,   1,   1,  -1,   1 ], \n",
    "                       'target':      ['B', 'A', 'C', 'B', 'D', 'B']})\n",
    "rows = [(r.source, r.interaction, r.target) for (i, r) in df_toy.iterrows()]\n",
    "cnt.ReNet.from_sif(rows).plot();"
   ]
  },
  {
   "cell_type": "markdown",
   "id": "d52a9ba7",
   "metadata": {},
   "source": [
    "## CARNIVAL single/multi-condition"
   ]
  },
  {
   "cell_type": "code",
   "execution_count": null,
   "id": "dff07485",
   "metadata": {},
   "outputs": [],
   "source": [
    "rn = cnt.ReNet.from_sif(rows)\n",
    "rn.plot();"
   ]
  },
  {
   "cell_type": "code",
   "execution_count": null,
   "id": "1402f4a7-90f9-4d28-805d-26c3a2c8d4df",
   "metadata": {},
   "outputs": [],
   "source": [
    "# Provisional impl of a more efficient ReNet\n",
    "# NOTE: ReNet will be rewritten in next versions\n",
    "from corneto._core import GReNet\n",
    "rn = GReNet.from_renet(rn)\n",
    "rn.plot();"
   ]
  },
  {
   "cell_type": "code",
   "execution_count": null,
   "id": "4cff2930",
   "metadata": {},
   "outputs": [],
   "source": [
    "from corneto.methods.signflow import create_flow_graph, signflow\n",
    "\n",
    "data = {\n",
    "    'C1': {\n",
    "        'A': ('P', -5.1),\n",
    "        'C': ('P', 1.2),\n",
    "        'D': ('M', 0.5)\n",
    "    },\n",
    "    'C2': {\n",
    "        'A': ('P', 1.1),\n",
    "        'B': ('P', -0.5),\n",
    "        'D': ('M', -1.1)\n",
    "    }\n",
    "}\n",
    "\n",
    "# Transform the original network into a carnival network\n",
    "rne = create_flow_graph(rn, data)\n",
    "rne.plot(figsize=(10, 10));"
   ]
  },
  {
   "cell_type": "code",
   "execution_count": null,
   "id": "145f60dd",
   "metadata": {},
   "outputs": [],
   "source": [
    "m = signflow(rne, data, l0_penalty_reaction=1e-4, dag=True)"
   ]
  },
  {
   "cell_type": "code",
   "execution_count": null,
   "id": "4e649094",
   "metadata": {},
   "outputs": [],
   "source": [
    "# Show declared vars in carnival\n",
    "m.symbols"
   ]
  },
  {
   "cell_type": "code",
   "execution_count": null,
   "id": "30ad5234",
   "metadata": {},
   "outputs": [],
   "source": [
    "# Constraints of carnival\n",
    "m.constraints"
   ]
  },
  {
   "cell_type": "code",
   "execution_count": null,
   "id": "96ac421b",
   "metadata": {},
   "outputs": [],
   "source": [
    "m.solve(verbosity=1).value"
   ]
  },
  {
   "cell_type": "code",
   "execution_count": null,
   "id": "5edc024d",
   "metadata": {},
   "outputs": [],
   "source": [
    "for i, c in enumerate(data.keys()):\n",
    "    print(c, \"loss:\", m._objectives[i].value)"
   ]
  },
  {
   "cell_type": "code",
   "execution_count": null,
   "id": "45cc8af3",
   "metadata": {},
   "outputs": [],
   "source": [
    "from corneto.methods.signflow import nx_style\n",
    "fig, ax = plt.subplots(1, 2, figsize=(12, 8))\n",
    "rne.plot(custom_style=nx_style(rne, m, condition='C1'), ax=ax[0]);\n",
    "rne.plot(custom_style=nx_style(rne, m, condition='C2'), ax=ax[1]);"
   ]
  },
  {
   "cell_type": "markdown",
   "id": "82079983-b14e-4b56-90bf-0a3258a78ec2",
   "metadata": {},
   "source": [
    "## Filtering and plotting"
   ]
  },
  {
   "cell_type": "code",
   "execution_count": null,
   "id": "c9de8078-9447-4c82-8b63-6501558eb734",
   "metadata": {},
   "outputs": [],
   "source": [
    "# Carnival creates specific variables that can be used to filter the graph.\n",
    "# _flow_rxn_ipos is a binary variable that indicates if a reaction was preselected\n",
    "# by carnival for propagating signal\n",
    "sel_rxn = m.get_symbol('_flow_rxn_ipos').value\n",
    "rne.select_reactions(np.where(sel_rxn > 0)[0]).plot(custom_style=nx_style(rne, m, condition='C1'), figsize=(6, 10));"
   ]
  },
  {
   "cell_type": "code",
   "execution_count": null,
   "id": "877ec796-317f-405c-be8a-43db84ad74ab",
   "metadata": {},
   "outputs": [],
   "source": [
    "# We can plot also only the part of the network with signal. E.g. for solution C1\n",
    "sel_rxn = m.get_symbol('reaction_sends_activation_C1').value + m.get_symbol('reaction_sends_inhibition_C1').value\n",
    "rne.select_reactions(np.where(sel_rxn > 0)[0]).plot(custom_style=nx_style(rne, m, condition='C1'), figsize=(6, 10));"
   ]
  }
 ],
 "metadata": {
  "kernelspec": {
   "display_name": "corneto-J1I25xm8-py3.8",
   "language": "python",
   "name": "python3"
  },
  "language_info": {
   "codemirror_mode": {
    "name": "ipython",
    "version": 3
   },
   "file_extension": ".py",
   "mimetype": "text/x-python",
   "name": "python",
   "nbconvert_exporter": "python",
   "pygments_lexer": "ipython3",
   "version": "3.8.13 (default, Mar 28 2022, 06:59:08) [MSC v.1916 64 bit (AMD64)]"
  },
  "vscode": {
   "interpreter": {
    "hash": "5e639228e3714f00f25d4829190f6fce2e1d00e6ef35493ac9ed1763d31f1b0d"
   }
  }
 },
 "nbformat": 4,
 "nbformat_minor": 5
}
